{
  "metadata": {
    "kernelspec": {
      "name": "python",
      "display_name": "Python (Pyodide)",
      "language": "python"
    },
    "language_info": {
      "codemirror_mode": {
        "name": "python",
        "version": 3
      },
      "file_extension": ".py",
      "mimetype": "text/x-python",
      "name": "python",
      "nbconvert_exporter": "python",
      "pygments_lexer": "ipython3",
      "version": "3.8"
    }
  },
  "nbformat_minor": 5,
  "nbformat": 4,
  "cells": [
    {
      "id": "209c0bc7-0fc8-450c-8f46-4cd72fe3df36",
      "cell_type": "markdown",
      "source": "# Data Science Tools and Ecosystem",
      "metadata": {
        "tags": [],
        "editable": true,
        "slideshow": {
          "slide_type": ""
        }
      }
    },
    {
      "id": "c1641c7e-bbf8-4175-8620-8719ec7545ee",
      "cell_type": "markdown",
      "source": "This notebook provides an overview of the tools, languages, and libraries used in Data Science.",
      "metadata": {}
    },
    {
      "id": "2be9db5d-e87a-4f8b-8cd4-e835291f28f5",
      "cell_type": "markdown",
      "source": "## Popular Data Science Languages  \n1. Python  \n2. R  \n3. SQL  \n4. Julia\n5. Scala",
      "metadata": {}
    },
    {
      "id": "500b87b7-07ed-4080-b691-a0e993bf40c1",
      "cell_type": "markdown",
      "source": "## Common Data Science Libraries  \n\n1. NumPy  \n2. Pandas  \n3. Matplotlib  \n4. Seaborn\n5. Scikit-learn\n6. TensorFlow",
      "metadata": {}
    },
    {
      "id": "7ad96c7f-7a4b-47fe-85f6-124c2868d847",
      "cell_type": "markdown",
      "source": "## Data Science Tools  \n\n| Tool           | Description                         |  \n|---------------|-----------------------------------|  \n| Jupyter Notebook | Interactive coding environment |  \n| RStudio        | IDE for R programming           |  \n| Apache Spark   | Big Data processing framework   |  \n| TensorFlow     | Deep learning framework         |  \n| Power BI       | Data visualization tool         |\n",
      "metadata": {}
    },
    {
      "id": "aa737629-3877-4ccf-956b-05237e094b87",
      "cell_type": "markdown",
      "source": "### Below are a few examples of evaluating arithmetic expressions in Python.",
      "metadata": {}
    },
    {
      "id": "e12957ed-322d-4e5b-a523-754adfb3b876",
      "cell_type": "code",
      "source": "# This code multiplies and adds numbers\n(3 * 4) + 5",
      "metadata": {
        "trusted": true,
        "jupyter": {
          "source_hidden": true
        }
      },
      "outputs": [
        {
          "execution_count": 2,
          "output_type": "execute_result",
          "data": {
            "text/plain": "17"
          },
          "metadata": {}
        }
      ],
      "execution_count": 2
    },
    {
      "id": "20a95eac-d787-40f3-982d-50a4f9b41c47",
      "cell_type": "code",
      "source": "# This code converts minutes to hours\nminutes = 200\nhours = minutes / 60\nhours",
      "metadata": {
        "trusted": true
      },
      "outputs": [
        {
          "execution_count": 3,
          "output_type": "execute_result",
          "data": {
            "text/plain": "3.3333333333333335"
          },
          "metadata": {}
        }
      ],
      "execution_count": 3
    },
    {
      "id": "6e8a61f3-cd20-48ce-9229-58dc49df4938",
      "cell_type": "markdown",
      "source": "## Key Objectives of This Notebook  \n\n- Understand the Data Science ecosystem  \n- List popular Data Science languages and libraries  \n- Explore commonly used Data Science tools  \n- Perform basic arithmetic operations in Python  \n- Convert minutes to hours using a simple calculation",
      "metadata": {}
    },
    {
      "id": "2830406b-4130-4fe9-a9db-99c1e39c7fd1",
      "cell_type": "markdown",
      "source": "## Author  \n\nVidhushniya Bharathi V",
      "metadata": {}
    }
  ]
}